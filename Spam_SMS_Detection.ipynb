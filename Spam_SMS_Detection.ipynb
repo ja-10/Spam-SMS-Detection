{
 "cells": [
  {
   "cell_type": "code",
   "execution_count": 1,
   "id": "882c3977",
   "metadata": {},
   "outputs": [],
   "source": [
    "#Importing the libraries\n",
    "import pandas as pd\n",
    "import numpy as np\n",
    "import matplotlib.pyplot as plt\n",
    "import seaborn as sns\n",
    "from sklearn.model_selection import train_test_split\n",
    "from sklearn.feature_extraction.text import CountVectorizer\n",
    "from sklearn.naive_bayes import MultinomialNB"
   ]
  },
  {
   "cell_type": "code",
   "execution_count": 2,
   "id": "15f269ac",
   "metadata": {},
   "outputs": [
    {
     "data": {
      "text/html": [
       "<div>\n",
       "<style scoped>\n",
       "    .dataframe tbody tr th:only-of-type {\n",
       "        vertical-align: middle;\n",
       "    }\n",
       "\n",
       "    .dataframe tbody tr th {\n",
       "        vertical-align: top;\n",
       "    }\n",
       "\n",
       "    .dataframe thead th {\n",
       "        text-align: right;\n",
       "    }\n",
       "</style>\n",
       "<table border=\"1\" class=\"dataframe\">\n",
       "  <thead>\n",
       "    <tr style=\"text-align: right;\">\n",
       "      <th></th>\n",
       "      <th>v1</th>\n",
       "      <th>v2</th>\n",
       "    </tr>\n",
       "  </thead>\n",
       "  <tbody>\n",
       "    <tr>\n",
       "      <th>0</th>\n",
       "      <td>ham</td>\n",
       "      <td>Go until jurong point, crazy.. Available only ...</td>\n",
       "    </tr>\n",
       "    <tr>\n",
       "      <th>1</th>\n",
       "      <td>ham</td>\n",
       "      <td>Ok lar... Joking wif u oni...</td>\n",
       "    </tr>\n",
       "    <tr>\n",
       "      <th>2</th>\n",
       "      <td>spam</td>\n",
       "      <td>Free entry in 2 a wkly comp to win FA Cup fina...</td>\n",
       "    </tr>\n",
       "    <tr>\n",
       "      <th>3</th>\n",
       "      <td>ham</td>\n",
       "      <td>U dun say so early hor... U c already then say...</td>\n",
       "    </tr>\n",
       "    <tr>\n",
       "      <th>4</th>\n",
       "      <td>ham</td>\n",
       "      <td>Nah I don't think he goes to usf, he lives aro...</td>\n",
       "    </tr>\n",
       "  </tbody>\n",
       "</table>\n",
       "</div>"
      ],
      "text/plain": [
       "     v1                                                 v2\n",
       "0   ham  Go until jurong point, crazy.. Available only ...\n",
       "1   ham                      Ok lar... Joking wif u oni...\n",
       "2  spam  Free entry in 2 a wkly comp to win FA Cup fina...\n",
       "3   ham  U dun say so early hor... U c already then say...\n",
       "4   ham  Nah I don't think he goes to usf, he lives aro..."
      ]
     },
     "execution_count": 2,
     "metadata": {},
     "output_type": "execute_result"
    }
   ],
   "source": [
    "#Loading the file\n",
    "data=pd.read_csv(\"Data.csv\",encoding=\"ISO-8859-1\")\n",
    "#Displaying the dataset  \n",
    "data.head()"
   ]
  },
  {
   "cell_type": "code",
   "execution_count": 3,
   "id": "d897b628",
   "metadata": {},
   "outputs": [
    {
     "data": {
      "image/png": "[encoded data removed]",
      "text/plain": [
       "<Figure size 800x600 with 1 Axes>"
      ]
     },
     "metadata": {},
     "output_type": "display_data"
    }
   ],
   "source": [
    "data.columns=[\"Category\",\"Message\"]\n",
    "#Counting the occurrence of each category\n",
    "category_count=data[\"Category\"].value_counts().reset_index()\n",
    "category_count.columns=[\"Category\",\"Count\"]\n",
    "#Displaying the category distribution \n",
    "plt.figure(figsize=(8,6))\n",
    "sns.barplot(x=\"Category\",y=\"Count\",data=category_count)\n",
    "plt.xlabel(\"Category\")\n",
    "plt.ylabel(\"Count\")\n",
    "plt.title(\"Category Distribution Plot\")\n",
    "for i,count in enumerate(category_count[\"Count\"]):\n",
    "    plt.text(i,count,str(count),horizontalalignment=\"center\",verticalalignment=\"bottom\")\n",
    "plt.show()"
   ]
  },
  {
   "cell_type": "code",
   "execution_count": 4,
   "id": "a9803c6e",
   "metadata": {},
   "outputs": [],
   "source": [
    "data[\"spam\"]=data[\"Category\"].apply(lambda x:1 if x==\"spam\" else 0)"
   ]
  },
  {
   "cell_type": "code",
   "execution_count": 5,
   "id": "ad9d1774",
   "metadata": {},
   "outputs": [],
   "source": [
    "#Splitting the dataset\n",
    "train,test=train_test_split(data,test_size=0.2)"
   ]
  },
  {
   "cell_type": "code",
   "execution_count": 6,
   "id": "0bb22140",
   "metadata": {},
   "outputs": [],
   "source": [
    "#Extracting the feature and target variable for the training dataset\n",
    "train_x=train[[\"Message\",\"spam\"]] \n",
    "train_y=train.Category\n",
    "#Extracting the feature and target variable for the testing dataset \n",
    "test_x=test[[\"Message\",\"spam\"]] \n",
    "test_y=test.Category"
   ]
  },
  {
   "cell_type": "code",
   "execution_count": 7,
   "id": "e5f971f0",
   "metadata": {},
   "outputs": [],
   "source": [
    "#Initializing the vectorizer\n",
    "featurer=CountVectorizer()\n",
    "x_train_count=featurer.fit_transform(train_x[\"Message\"].values)"
   ]
  },
  {
   "cell_type": "code",
   "execution_count": 8,
   "id": "43ff30a8",
   "metadata": {},
   "outputs": [],
   "source": [
    "#Building the multinomial naive bayes classifier model\n",
    "model=MultinomialNB()\n",
    "model.fit(x_train_count,train_y);"
   ]
  },
  {
   "cell_type": "code",
   "execution_count": 9,
   "id": "926b98a6",
   "metadata": {},
   "outputs": [
    {
     "name": "stdout",
     "output_type": "stream",
     "text": [
      "Testing Accuracy: 98.48%\n"
     ]
    }
   ],
   "source": [
    "x_test_count=featurer.transform(test_x[\"Message\"].values)\n",
    "test_accuracy=(100*model.score(x_test_count,test_y))\n",
    "#Displaying the testing accuracy\n",
    "print(f\"Testing Accuracy:{test_accuracy:6.2f}%\")"
   ]
  },
  {
   "cell_type": "code",
   "execution_count": 10,
   "id": "2d259c3c",
   "metadata": {},
   "outputs": [
    {
     "name": "stdout",
     "output_type": "stream",
     "text": [
      "It is a spam message.\n"
     ]
    }
   ],
   "source": [
    "#First sample message\n",
    "message_1=[\"Congratulations!!You have won $1000 in this week's lottery.Click the link and fill in with your details to avail the cash prize\"]\n",
    "message_1_count=featurer.transform(message_1)\n",
    "#Predicting the probability of each class\n",
    "probabilities=model.predict_proba(message_1_count)\n",
    "probability=probabilities[0][1] \n",
    "#Setting threshold value\n",
    "threshold=0.5 \n",
    "if probability>=threshold:\n",
    "    print(\"It is a spam message.\")\n",
    "else:\n",
    "    print(\"It is not a spam message.\")"
   ]
  },
  {
   "cell_type": "code",
   "execution_count": 11,
   "id": "149bf918",
   "metadata": {},
   "outputs": [
    {
     "name": "stdout",
     "output_type": "stream",
     "text": [
      "It is not a spam message.\n"
     ]
    }
   ],
   "source": [
    "#Second sample message\n",
    "message_2=[\"Thank you for your inquiry.We have received your message and will get back to you as soon as possible.\"]\n",
    "message_2_count=featurer.transform(message_2)\n",
    "#Predicting the probability of each class\n",
    "probabilities=model.predict_proba(message_2_count)\n",
    "probability=probabilities[0][1] \n",
    "#Setting threshold value\n",
    "threshold=0.5 \n",
    "if probability>=threshold:\n",
    "    print(\"It is a spam message.\")\n",
    "else:\n",
    "    print(\"It is not a spam message.\")"
   ]
  }
 ],
 "metadata": {
  "kernelspec": {
   "display_name": "NN",
   "language": "python",
   "name": "nn"
  },
  "language_info": {
   "codemirror_mode": {
    "name": "ipython",
    "version": 3
   },
   "file_extension": ".py",
   "mimetype": "text/x-python",
   "name": "python",
   "nbconvert_exporter": "python",
   "pygments_lexer": "ipython3",
   "version": "3.11.5"
  }
 },
 "nbformat": 4,
 "nbformat_minor": 5
}
